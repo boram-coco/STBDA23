{
 "cells": [
  {
   "cell_type": "raw",
   "id": "a3762636-d574-4398-825f-12afa33fc3a2",
   "metadata": {},
   "source": [
    "---\n",
    "title: \"[STBDA2023] 07wk-028: 선형모형의 적\"\n",
    "author: \"김보람\"\n",
    "date: \"10/21/2023\"\n",
    "---"
   ]
  },
  {
   "cell_type": "markdown",
   "id": "af14934c-ce59-44d7-a063-97750e7d980e",
   "metadata": {},
   "source": [
    "> 해당 자료는 전북대학교 최규빈 교수님 2023학년도 2학기 [빅데이터분석특강](https://guebin.github.io/STBDA2023/) 자료임"
   ]
  },
  {
   "cell_type": "markdown",
   "id": "c6a51a63-8819-47ba-ae4e-253939a64c3e",
   "metadata": {},
   "source": [
    "# 07wk-028: 선형모형의 적\n",
    "\n",
    "최규빈  \n",
    "2023-10-17\n",
    "\n",
    "# 1. 강의영상\n",
    "\n",
    "<https://youtu.be/playlist?list=PLQqh36zP38-xzU9SK7N9KSAMxLVLTqtTu&si=OFhnv1gcYHsJ1c9F>\n",
    "\n",
    "# 2. Imports"
   ]
  },
  {
   "cell_type": "code",
   "execution_count": 1,
   "id": "1fe1d720-242a-4033-9602-fdebf56eb4d6",
   "metadata": {
    "tags": []
   },
   "outputs": [],
   "source": [
    "import numpy as np \n",
    "import pandas as pd\n",
    "import matplotlib.pyplot as plt \n",
    "import seaborn as sns\n",
    "import sklearn.linear_model\n",
    "import sklearn.preprocessing"
   ]
  },
  {
   "cell_type": "markdown",
   "id": "994e946c-d028-4243-b036-621c6f4d05d3",
   "metadata": {},
   "source": [
    "# 3. 선형모형의 적\n",
    "\n",
    "## A. 결측치의 존재\n",
    "\n",
    "`-` 문제: 데이터에서 누락된 값이 있는 경우, 선형모델이 돌아가지 않음.\n",
    "(“`NaN이 있어서 모형을 적합할 수 없습니다`”라는 에러 발생)\n",
    "\n",
    "`-` 해결방법\n",
    "\n",
    "-   방법1: 결측치를 제거\n",
    "    1.  결측치가 포함된 열을 제거\n",
    "    2.  결측치가 포함된 행을 제거\n",
    "    3.  위의 두 방법을 혼합\n",
    "-   방법2: 결측치를 impute\n",
    "    1.  train 에서는 fit_transform, test 에서는 transform\n",
    "    2.  train, test에서 모두 fit_transform\n",
    "    3.  임의의 값 (예를들면 -999)로 일괄 impute\n",
    "    4.  interploation (이미지나 시계열 자료)\n",
    "\n",
    "## B. 다중공선성의 존재\n",
    "\n",
    "`-` 문제: 데이터의 설명변수가 역할이 겹칠경우 선형모형의 일반화 성능이\n",
    "좋지 않음.\n",
    "\n",
    "`-` 해결방법\n",
    "\n",
    "-   방법1: 변수제거\n",
    "    1.  X의 corr을 파악하고 (혹은 히트맵을 그리고) 느낌적으로 제거\n",
    "    2.  PCA등 차원축소기법을 이용한 제거\n",
    "-   방법2: 공선성을 가지는 변수를 모아 새로운 변수로 변환\n",
    "    1.  느낌적으로 변환 (예시 Fsize = Sibsp + Parch + 1, 이후 Sibsp,\n",
    "        Parch 는 drop)\n",
    "    2.  PCA를 이용한 변환\n",
    "-   방법3: Ridge, Lasso 등 패널티계열을 사용\n",
    "    1.  Rigde\n",
    "    2.  Lasso\n",
    "    3.  Elastic net\n",
    "\n",
    "`-` 방법1-1 (X의 corr을 파악하고 느낌적으로 제거) 의 예시"
   ]
  },
  {
   "cell_type": "code",
   "execution_count": 2,
   "id": "23008fa0-017d-4ecf-81a0-d735772ac0ba",
   "metadata": {
    "tags": []
   },
   "outputs": [
    {
     "data": {
      "text/html": [
       "<div>\n",
       "<style scoped>\n",
       "    .dataframe tbody tr th:only-of-type {\n",
       "        vertical-align: middle;\n",
       "    }\n",
       "\n",
       "    .dataframe tbody tr th {\n",
       "        vertical-align: top;\n",
       "    }\n",
       "\n",
       "    .dataframe thead th {\n",
       "        text-align: right;\n",
       "    }\n",
       "</style>\n",
       "<table border=\"1\" class=\"dataframe\">\n",
       "  <thead>\n",
       "    <tr style=\"text-align: right;\">\n",
       "      <th></th>\n",
       "      <th>gpa</th>\n",
       "      <th>toeic</th>\n",
       "      <th>toeic0</th>\n",
       "      <th>toeic1</th>\n",
       "      <th>toeic2</th>\n",
       "    </tr>\n",
       "  </thead>\n",
       "  <tbody>\n",
       "    <tr>\n",
       "      <th>0</th>\n",
       "      <td>0.051535</td>\n",
       "      <td>135</td>\n",
       "      <td>129.566309</td>\n",
       "      <td>133.078481</td>\n",
       "      <td>121.678398</td>\n",
       "    </tr>\n",
       "    <tr>\n",
       "      <th>1</th>\n",
       "      <td>0.355496</td>\n",
       "      <td>935</td>\n",
       "      <td>940.563187</td>\n",
       "      <td>935.723570</td>\n",
       "      <td>939.190519</td>\n",
       "    </tr>\n",
       "    <tr>\n",
       "      <th>2</th>\n",
       "      <td>2.228435</td>\n",
       "      <td>485</td>\n",
       "      <td>493.671390</td>\n",
       "      <td>493.909118</td>\n",
       "      <td>475.500970</td>\n",
       "    </tr>\n",
       "    <tr>\n",
       "      <th>3</th>\n",
       "      <td>1.179701</td>\n",
       "      <td>65</td>\n",
       "      <td>62.272565</td>\n",
       "      <td>55.957257</td>\n",
       "      <td>68.521468</td>\n",
       "    </tr>\n",
       "    <tr>\n",
       "      <th>4</th>\n",
       "      <td>3.962356</td>\n",
       "      <td>445</td>\n",
       "      <td>449.280637</td>\n",
       "      <td>438.895582</td>\n",
       "      <td>433.598274</td>\n",
       "    </tr>\n",
       "    <tr>\n",
       "      <th>...</th>\n",
       "      <td>...</td>\n",
       "      <td>...</td>\n",
       "      <td>...</td>\n",
       "      <td>...</td>\n",
       "      <td>...</td>\n",
       "    </tr>\n",
       "    <tr>\n",
       "      <th>495</th>\n",
       "      <td>4.288465</td>\n",
       "      <td>280</td>\n",
       "      <td>276.680902</td>\n",
       "      <td>274.502675</td>\n",
       "      <td>277.868536</td>\n",
       "    </tr>\n",
       "    <tr>\n",
       "      <th>496</th>\n",
       "      <td>2.601212</td>\n",
       "      <td>310</td>\n",
       "      <td>296.940263</td>\n",
       "      <td>301.545000</td>\n",
       "      <td>306.725610</td>\n",
       "    </tr>\n",
       "    <tr>\n",
       "      <th>497</th>\n",
       "      <td>0.042323</td>\n",
       "      <td>225</td>\n",
       "      <td>206.793217</td>\n",
       "      <td>228.335345</td>\n",
       "      <td>222.115146</td>\n",
       "    </tr>\n",
       "    <tr>\n",
       "      <th>498</th>\n",
       "      <td>1.041416</td>\n",
       "      <td>320</td>\n",
       "      <td>327.461442</td>\n",
       "      <td>323.019899</td>\n",
       "      <td>329.589337</td>\n",
       "    </tr>\n",
       "    <tr>\n",
       "      <th>499</th>\n",
       "      <td>3.626883</td>\n",
       "      <td>375</td>\n",
       "      <td>370.966595</td>\n",
       "      <td>364.668477</td>\n",
       "      <td>371.853566</td>\n",
       "    </tr>\n",
       "  </tbody>\n",
       "</table>\n",
       "<p>500 rows × 5 columns</p>\n",
       "</div>"
      ],
      "text/plain": [
       "          gpa  toeic      toeic0      toeic1      toeic2\n",
       "0    0.051535    135  129.566309  133.078481  121.678398\n",
       "1    0.355496    935  940.563187  935.723570  939.190519\n",
       "2    2.228435    485  493.671390  493.909118  475.500970\n",
       "3    1.179701     65   62.272565   55.957257   68.521468\n",
       "4    3.962356    445  449.280637  438.895582  433.598274\n",
       "..        ...    ...         ...         ...         ...\n",
       "495  4.288465    280  276.680902  274.502675  277.868536\n",
       "496  2.601212    310  296.940263  301.545000  306.725610\n",
       "497  0.042323    225  206.793217  228.335345  222.115146\n",
       "498  1.041416    320  327.461442  323.019899  329.589337\n",
       "499  3.626883    375  370.966595  364.668477  371.853566\n",
       "\n",
       "[500 rows x 5 columns]"
      ]
     },
     "execution_count": 2,
     "metadata": {},
     "output_type": "execute_result"
    }
   ],
   "source": [
    "df = pd.read_csv(\"https://raw.githubusercontent.com/guebin/MP2023/main/posts/employment_multicollinearity.csv\")\n",
    "X = df.loc[:,'gpa':'toeic2']\n",
    "X"
   ]
  },
  {
   "cell_type": "markdown",
   "id": "588d86ea-5eaf-4437-9f86-cfc66cd83ff9",
   "metadata": {},
   "source": [
    "*corr 조사*"
   ]
  },
  {
   "cell_type": "code",
   "execution_count": 3,
   "id": "a6d0ca4e",
   "metadata": {},
   "outputs": [
    {
     "data": {
      "text/html": [
       "<div>\n",
       "<style scoped>\n",
       "    .dataframe tbody tr th:only-of-type {\n",
       "        vertical-align: middle;\n",
       "    }\n",
       "\n",
       "    .dataframe tbody tr th {\n",
       "        vertical-align: top;\n",
       "    }\n",
       "\n",
       "    .dataframe thead th {\n",
       "        text-align: right;\n",
       "    }\n",
       "</style>\n",
       "<table border=\"1\" class=\"dataframe\">\n",
       "  <thead>\n",
       "    <tr style=\"text-align: right;\">\n",
       "      <th></th>\n",
       "      <th>gpa</th>\n",
       "      <th>toeic</th>\n",
       "      <th>toeic0</th>\n",
       "      <th>toeic1</th>\n",
       "      <th>toeic2</th>\n",
       "    </tr>\n",
       "  </thead>\n",
       "  <tbody>\n",
       "    <tr>\n",
       "      <th>gpa</th>\n",
       "      <td>1.000000</td>\n",
       "      <td>-0.033983</td>\n",
       "      <td>-0.035722</td>\n",
       "      <td>-0.037734</td>\n",
       "      <td>-0.034828</td>\n",
       "    </tr>\n",
       "    <tr>\n",
       "      <th>toeic</th>\n",
       "      <td>-0.033983</td>\n",
       "      <td>1.000000</td>\n",
       "      <td>0.999435</td>\n",
       "      <td>0.999322</td>\n",
       "      <td>0.999341</td>\n",
       "    </tr>\n",
       "    <tr>\n",
       "      <th>toeic0</th>\n",
       "      <td>-0.035722</td>\n",
       "      <td>0.999435</td>\n",
       "      <td>1.000000</td>\n",
       "      <td>0.998746</td>\n",
       "      <td>0.998828</td>\n",
       "    </tr>\n",
       "    <tr>\n",
       "      <th>toeic1</th>\n",
       "      <td>-0.037734</td>\n",
       "      <td>0.999322</td>\n",
       "      <td>0.998746</td>\n",
       "      <td>1.000000</td>\n",
       "      <td>0.998721</td>\n",
       "    </tr>\n",
       "    <tr>\n",
       "      <th>toeic2</th>\n",
       "      <td>-0.034828</td>\n",
       "      <td>0.999341</td>\n",
       "      <td>0.998828</td>\n",
       "      <td>0.998721</td>\n",
       "      <td>1.000000</td>\n",
       "    </tr>\n",
       "  </tbody>\n",
       "</table>\n",
       "</div>"
      ],
      "text/plain": [
       "             gpa     toeic    toeic0    toeic1    toeic2\n",
       "gpa     1.000000 -0.033983 -0.035722 -0.037734 -0.034828\n",
       "toeic  -0.033983  1.000000  0.999435  0.999322  0.999341\n",
       "toeic0 -0.035722  0.999435  1.000000  0.998746  0.998828\n",
       "toeic1 -0.037734  0.999322  0.998746  1.000000  0.998721\n",
       "toeic2 -0.034828  0.999341  0.998828  0.998721  1.000000"
      ]
     },
     "execution_count": 3,
     "metadata": {},
     "output_type": "execute_result"
    }
   ],
   "source": [
    "X.corr()"
   ]
  },
  {
   "cell_type": "markdown",
   "id": "693db97e-1443-4f02-b218-34639ba0971e",
   "metadata": {},
   "source": [
    "*heatmap 플랏*"
   ]
  },
  {
   "cell_type": "code",
   "execution_count": 8,
   "id": "43cfdd33",
   "metadata": {},
   "outputs": [
    {
     "data": {
      "text/plain": [
       "<Axes: >"
      ]
     },
     "execution_count": 8,
     "metadata": {},
     "output_type": "execute_result"
    },
    {
     "data": {
      "image/png": "[encoded data removed]",
      "text/plain": [
       "<Figure size 640x480 with 2 Axes>"
      ]
     },
     "metadata": {},
     "output_type": "display_data"
    }
   ],
   "source": [
    "sns.heatmap(X.corr(),annot=True, fmt=\".7f\")  # 숫자 보여주는 옵션"
   ]
  },
  {
   "cell_type": "markdown",
   "id": "279b11ec-76ad-44fd-ade3-ec4673fc7aa9",
   "metadata": {},
   "source": [
    "## C. 관련이 없는 변수의 존재\n",
    "\n",
    "`-` 문제: 데이터에서 불필요한 설명변수가 너무 많을 경우 선형모형의\n",
    "일반화 성능이 좋지 않음.\n",
    "\n",
    "-   불필요한 설명변수임의 쉬운 예시: 고객이름, ID, Index 관련 변수\n",
    "\n",
    "`-` 해결방법\n",
    "\n",
    "-   방법1: 변수제거\n",
    "    1.  (y,X)의 corr을 파악하고 (혹은 히트맵을 그리고) 느낌적으로 제거\n",
    "    2.  PCA를 이용한 제거\n",
    "    3.  Lasso를 이용한 제거\n",
    "-   방법2: 더 많은 데이터를 확보 (궁극기술, 그런데 차원의 저주때문에\n",
    "    힘듬)\n",
    "\n",
    "`-` 방법1-1의 예시"
   ]
  },
  {
   "cell_type": "code",
   "execution_count": 10,
   "id": "66f49d57-8396-42ea-8122-003a4e4c5ebf",
   "metadata": {
    "tags": []
   },
   "outputs": [
    {
     "data": {
      "text/html": [
       "<div>\n",
       "<style scoped>\n",
       "    .dataframe tbody tr th:only-of-type {\n",
       "        vertical-align: middle;\n",
       "    }\n",
       "\n",
       "    .dataframe tbody tr th {\n",
       "        vertical-align: top;\n",
       "    }\n",
       "\n",
       "    .dataframe thead th {\n",
       "        text-align: right;\n",
       "    }\n",
       "</style>\n",
       "<table border=\"1\" class=\"dataframe\">\n",
       "  <thead>\n",
       "    <tr style=\"text-align: right;\">\n",
       "      <th></th>\n",
       "      <th>toeic</th>\n",
       "      <th>gpa</th>\n",
       "      <th>employment</th>\n",
       "      <th>balance0</th>\n",
       "      <th>balance1</th>\n",
       "      <th>balance2</th>\n",
       "    </tr>\n",
       "  </thead>\n",
       "  <tbody>\n",
       "    <tr>\n",
       "      <th>0</th>\n",
       "      <td>135</td>\n",
       "      <td>0.051535</td>\n",
       "      <td>0</td>\n",
       "      <td>1.624345</td>\n",
       "      <td>-0.611756</td>\n",
       "      <td>-0.528172</td>\n",
       "    </tr>\n",
       "    <tr>\n",
       "      <th>1</th>\n",
       "      <td>935</td>\n",
       "      <td>0.355496</td>\n",
       "      <td>0</td>\n",
       "      <td>-1.072969</td>\n",
       "      <td>0.865408</td>\n",
       "      <td>-2.301539</td>\n",
       "    </tr>\n",
       "    <tr>\n",
       "      <th>2</th>\n",
       "      <td>485</td>\n",
       "      <td>2.228435</td>\n",
       "      <td>0</td>\n",
       "      <td>1.744812</td>\n",
       "      <td>-0.761207</td>\n",
       "      <td>0.319039</td>\n",
       "    </tr>\n",
       "    <tr>\n",
       "      <th>3</th>\n",
       "      <td>65</td>\n",
       "      <td>1.179701</td>\n",
       "      <td>0</td>\n",
       "      <td>-0.249370</td>\n",
       "      <td>1.462108</td>\n",
       "      <td>-2.060141</td>\n",
       "    </tr>\n",
       "    <tr>\n",
       "      <th>4</th>\n",
       "      <td>445</td>\n",
       "      <td>3.962356</td>\n",
       "      <td>1</td>\n",
       "      <td>-0.322417</td>\n",
       "      <td>-0.384054</td>\n",
       "      <td>1.133769</td>\n",
       "    </tr>\n",
       "    <tr>\n",
       "      <th>...</th>\n",
       "      <td>...</td>\n",
       "      <td>...</td>\n",
       "      <td>...</td>\n",
       "      <td>...</td>\n",
       "      <td>...</td>\n",
       "      <td>...</td>\n",
       "    </tr>\n",
       "    <tr>\n",
       "      <th>495</th>\n",
       "      <td>280</td>\n",
       "      <td>4.288465</td>\n",
       "      <td>1</td>\n",
       "      <td>-1.326490</td>\n",
       "      <td>0.308204</td>\n",
       "      <td>1.115489</td>\n",
       "    </tr>\n",
       "    <tr>\n",
       "      <th>496</th>\n",
       "      <td>310</td>\n",
       "      <td>2.601212</td>\n",
       "      <td>1</td>\n",
       "      <td>1.008196</td>\n",
       "      <td>-3.016032</td>\n",
       "      <td>-1.619646</td>\n",
       "    </tr>\n",
       "    <tr>\n",
       "      <th>497</th>\n",
       "      <td>225</td>\n",
       "      <td>0.042323</td>\n",
       "      <td>0</td>\n",
       "      <td>2.005141</td>\n",
       "      <td>-0.187626</td>\n",
       "      <td>-0.148941</td>\n",
       "    </tr>\n",
       "    <tr>\n",
       "      <th>498</th>\n",
       "      <td>320</td>\n",
       "      <td>1.041416</td>\n",
       "      <td>0</td>\n",
       "      <td>1.165335</td>\n",
       "      <td>0.196645</td>\n",
       "      <td>-0.632590</td>\n",
       "    </tr>\n",
       "    <tr>\n",
       "      <th>499</th>\n",
       "      <td>375</td>\n",
       "      <td>3.626883</td>\n",
       "      <td>1</td>\n",
       "      <td>-0.209847</td>\n",
       "      <td>1.897161</td>\n",
       "      <td>-1.381391</td>\n",
       "    </tr>\n",
       "  </tbody>\n",
       "</table>\n",
       "<p>500 rows × 6 columns</p>\n",
       "</div>"
      ],
      "text/plain": [
       "     toeic       gpa  employment  balance0  balance1  balance2\n",
       "0      135  0.051535           0  1.624345 -0.611756 -0.528172\n",
       "1      935  0.355496           0 -1.072969  0.865408 -2.301539\n",
       "2      485  2.228435           0  1.744812 -0.761207  0.319039\n",
       "3       65  1.179701           0 -0.249370  1.462108 -2.060141\n",
       "4      445  3.962356           1 -0.322417 -0.384054  1.133769\n",
       "..     ...       ...         ...       ...       ...       ...\n",
       "495    280  4.288465           1 -1.326490  0.308204  1.115489\n",
       "496    310  2.601212           1  1.008196 -3.016032 -1.619646\n",
       "497    225  0.042323           0  2.005141 -0.187626 -0.148941\n",
       "498    320  1.041416           0  1.165335  0.196645 -0.632590\n",
       "499    375  3.626883           1 -0.209847  1.897161 -1.381391\n",
       "\n",
       "[500 rows x 6 columns]"
      ]
     },
     "execution_count": 10,
     "metadata": {},
     "output_type": "execute_result"
    }
   ],
   "source": [
    "np.random.seed(1)\n",
    "df = pd.read_csv('https://raw.githubusercontent.com/guebin/MP2023/main/posts/employment.csv')\n",
    "df_balance = pd.DataFrame((np.random.randn(500,3)).reshape(500,3)*1,columns = ['balance'+str(i) for i in range(3)])\n",
    "df_train = pd.concat([df,df_balance],axis=1)\n",
    "df_train"
   ]
  },
  {
   "cell_type": "code",
   "execution_count": 11,
   "id": "9abd172c",
   "metadata": {},
   "outputs": [
    {
     "data": {
      "text/html": [
       "<div>\n",
       "<style scoped>\n",
       "    .dataframe tbody tr th:only-of-type {\n",
       "        vertical-align: middle;\n",
       "    }\n",
       "\n",
       "    .dataframe tbody tr th {\n",
       "        vertical-align: top;\n",
       "    }\n",
       "\n",
       "    .dataframe thead th {\n",
       "        text-align: right;\n",
       "    }\n",
       "</style>\n",
       "<table border=\"1\" class=\"dataframe\">\n",
       "  <thead>\n",
       "    <tr style=\"text-align: right;\">\n",
       "      <th></th>\n",
       "      <th>toeic</th>\n",
       "      <th>gpa</th>\n",
       "      <th>employment</th>\n",
       "      <th>balance0</th>\n",
       "      <th>balance1</th>\n",
       "      <th>balance2</th>\n",
       "    </tr>\n",
       "  </thead>\n",
       "  <tbody>\n",
       "    <tr>\n",
       "      <th>toeic</th>\n",
       "      <td>1.000000</td>\n",
       "      <td>-0.033983</td>\n",
       "      <td>0.260183</td>\n",
       "      <td>0.002682</td>\n",
       "      <td>0.110530</td>\n",
       "      <td>0.024664</td>\n",
       "    </tr>\n",
       "    <tr>\n",
       "      <th>gpa</th>\n",
       "      <td>-0.033983</td>\n",
       "      <td>1.000000</td>\n",
       "      <td>0.711022</td>\n",
       "      <td>-0.025197</td>\n",
       "      <td>0.005272</td>\n",
       "      <td>0.020794</td>\n",
       "    </tr>\n",
       "    <tr>\n",
       "      <th>employment</th>\n",
       "      <td>0.260183</td>\n",
       "      <td>0.711022</td>\n",
       "      <td>1.000000</td>\n",
       "      <td>-0.007348</td>\n",
       "      <td>0.036706</td>\n",
       "      <td>0.032284</td>\n",
       "    </tr>\n",
       "    <tr>\n",
       "      <th>balance0</th>\n",
       "      <td>0.002682</td>\n",
       "      <td>-0.025197</td>\n",
       "      <td>-0.007348</td>\n",
       "      <td>1.000000</td>\n",
       "      <td>-0.059167</td>\n",
       "      <td>0.040035</td>\n",
       "    </tr>\n",
       "    <tr>\n",
       "      <th>balance1</th>\n",
       "      <td>0.110530</td>\n",
       "      <td>0.005272</td>\n",
       "      <td>0.036706</td>\n",
       "      <td>-0.059167</td>\n",
       "      <td>1.000000</td>\n",
       "      <td>-0.030215</td>\n",
       "    </tr>\n",
       "    <tr>\n",
       "      <th>balance2</th>\n",
       "      <td>0.024664</td>\n",
       "      <td>0.020794</td>\n",
       "      <td>0.032284</td>\n",
       "      <td>0.040035</td>\n",
       "      <td>-0.030215</td>\n",
       "      <td>1.000000</td>\n",
       "    </tr>\n",
       "  </tbody>\n",
       "</table>\n",
       "</div>"
      ],
      "text/plain": [
       "               toeic       gpa  employment  balance0  balance1  balance2\n",
       "toeic       1.000000 -0.033983    0.260183  0.002682  0.110530  0.024664\n",
       "gpa        -0.033983  1.000000    0.711022 -0.025197  0.005272  0.020794\n",
       "employment  0.260183  0.711022    1.000000 -0.007348  0.036706  0.032284\n",
       "balance0    0.002682 -0.025197   -0.007348  1.000000 -0.059167  0.040035\n",
       "balance1    0.110530  0.005272    0.036706 -0.059167  1.000000 -0.030215\n",
       "balance2    0.024664  0.020794    0.032284  0.040035 -0.030215  1.000000"
      ]
     },
     "execution_count": 11,
     "metadata": {},
     "output_type": "execute_result"
    }
   ],
   "source": [
    "df_train.corr()"
   ]
  },
  {
   "cell_type": "code",
   "execution_count": 12,
   "id": "a03463b3",
   "metadata": {},
   "outputs": [
    {
     "data": {
      "text/plain": [
       "<Axes: >"
      ]
     },
     "execution_count": 12,
     "metadata": {},
     "output_type": "execute_result"
    },
    {
     "data": {
      "image/png": "[encoded data removed]",
      "text/plain": [
       "<Figure size 640x480 with 2 Axes>"
      ]
     },
     "metadata": {},
     "output_type": "display_data"
    }
   ],
   "source": [
    "sns.heatmap(df_train.corr(),annot=True)"
   ]
  },
  {
   "cell_type": "markdown",
   "id": "6949050e-815a-4a4e-a071-bd946017a616",
   "metadata": {},
   "source": [
    "1.  설명변수 balance0,1,2(=X3,X4,X5)는 반응변수 employment(=y)와 관련이\n",
    "    없어 -\\> X3,X4,X5는 제외하자.\n",
    "2.  반응변수 employment(=y)와 관련이 있는 설명변수인 toiec,gpa\n",
    "    (=X1,X2)는 남기자.\n",
    "3.  공선성체크: 설명변수 toeic, gpa (=X1,X2)의 corr은 -0.034 로 높지\n",
    "    않으니 다중공선성문제를 걱정할 필요가 없음.\n",
    "\n",
    "`-` 방법1-3의 예시"
   ]
  },
  {
   "cell_type": "code",
   "execution_count": 13,
   "id": "0e19e8cb-48ad-44d0-b41a-48e5417d562b",
   "metadata": {
    "tags": []
   },
   "outputs": [
    {
     "data": {
      "text/html": [
       "<div>\n",
       "<style scoped>\n",
       "    .dataframe tbody tr th:only-of-type {\n",
       "        vertical-align: middle;\n",
       "    }\n",
       "\n",
       "    .dataframe tbody tr th {\n",
       "        vertical-align: top;\n",
       "    }\n",
       "\n",
       "    .dataframe thead th {\n",
       "        text-align: right;\n",
       "    }\n",
       "</style>\n",
       "<table border=\"1\" class=\"dataframe\">\n",
       "  <thead>\n",
       "    <tr style=\"text-align: right;\">\n",
       "      <th></th>\n",
       "      <th>toeic</th>\n",
       "      <th>gpa</th>\n",
       "      <th>employment</th>\n",
       "      <th>balance0</th>\n",
       "      <th>balance1</th>\n",
       "      <th>balance2</th>\n",
       "    </tr>\n",
       "  </thead>\n",
       "  <tbody>\n",
       "    <tr>\n",
       "      <th>0</th>\n",
       "      <td>135</td>\n",
       "      <td>0.051535</td>\n",
       "      <td>0</td>\n",
       "      <td>1.624345</td>\n",
       "      <td>-0.611756</td>\n",
       "      <td>-0.528172</td>\n",
       "    </tr>\n",
       "    <tr>\n",
       "      <th>1</th>\n",
       "      <td>935</td>\n",
       "      <td>0.355496</td>\n",
       "      <td>0</td>\n",
       "      <td>-1.072969</td>\n",
       "      <td>0.865408</td>\n",
       "      <td>-2.301539</td>\n",
       "    </tr>\n",
       "    <tr>\n",
       "      <th>2</th>\n",
       "      <td>485</td>\n",
       "      <td>2.228435</td>\n",
       "      <td>0</td>\n",
       "      <td>1.744812</td>\n",
       "      <td>-0.761207</td>\n",
       "      <td>0.319039</td>\n",
       "    </tr>\n",
       "    <tr>\n",
       "      <th>3</th>\n",
       "      <td>65</td>\n",
       "      <td>1.179701</td>\n",
       "      <td>0</td>\n",
       "      <td>-0.249370</td>\n",
       "      <td>1.462108</td>\n",
       "      <td>-2.060141</td>\n",
       "    </tr>\n",
       "    <tr>\n",
       "      <th>4</th>\n",
       "      <td>445</td>\n",
       "      <td>3.962356</td>\n",
       "      <td>1</td>\n",
       "      <td>-0.322417</td>\n",
       "      <td>-0.384054</td>\n",
       "      <td>1.133769</td>\n",
       "    </tr>\n",
       "    <tr>\n",
       "      <th>...</th>\n",
       "      <td>...</td>\n",
       "      <td>...</td>\n",
       "      <td>...</td>\n",
       "      <td>...</td>\n",
       "      <td>...</td>\n",
       "      <td>...</td>\n",
       "    </tr>\n",
       "    <tr>\n",
       "      <th>495</th>\n",
       "      <td>280</td>\n",
       "      <td>4.288465</td>\n",
       "      <td>1</td>\n",
       "      <td>-1.326490</td>\n",
       "      <td>0.308204</td>\n",
       "      <td>1.115489</td>\n",
       "    </tr>\n",
       "    <tr>\n",
       "      <th>496</th>\n",
       "      <td>310</td>\n",
       "      <td>2.601212</td>\n",
       "      <td>1</td>\n",
       "      <td>1.008196</td>\n",
       "      <td>-3.016032</td>\n",
       "      <td>-1.619646</td>\n",
       "    </tr>\n",
       "    <tr>\n",
       "      <th>497</th>\n",
       "      <td>225</td>\n",
       "      <td>0.042323</td>\n",
       "      <td>0</td>\n",
       "      <td>2.005141</td>\n",
       "      <td>-0.187626</td>\n",
       "      <td>-0.148941</td>\n",
       "    </tr>\n",
       "    <tr>\n",
       "      <th>498</th>\n",
       "      <td>320</td>\n",
       "      <td>1.041416</td>\n",
       "      <td>0</td>\n",
       "      <td>1.165335</td>\n",
       "      <td>0.196645</td>\n",
       "      <td>-0.632590</td>\n",
       "    </tr>\n",
       "    <tr>\n",
       "      <th>499</th>\n",
       "      <td>375</td>\n",
       "      <td>3.626883</td>\n",
       "      <td>1</td>\n",
       "      <td>-0.209847</td>\n",
       "      <td>1.897161</td>\n",
       "      <td>-1.381391</td>\n",
       "    </tr>\n",
       "  </tbody>\n",
       "</table>\n",
       "<p>500 rows × 6 columns</p>\n",
       "</div>"
      ],
      "text/plain": [
       "     toeic       gpa  employment  balance0  balance1  balance2\n",
       "0      135  0.051535           0  1.624345 -0.611756 -0.528172\n",
       "1      935  0.355496           0 -1.072969  0.865408 -2.301539\n",
       "2      485  2.228435           0  1.744812 -0.761207  0.319039\n",
       "3       65  1.179701           0 -0.249370  1.462108 -2.060141\n",
       "4      445  3.962356           1 -0.322417 -0.384054  1.133769\n",
       "..     ...       ...         ...       ...       ...       ...\n",
       "495    280  4.288465           1 -1.326490  0.308204  1.115489\n",
       "496    310  2.601212           1  1.008196 -3.016032 -1.619646\n",
       "497    225  0.042323           0  2.005141 -0.187626 -0.148941\n",
       "498    320  1.041416           0  1.165335  0.196645 -0.632590\n",
       "499    375  3.626883           1 -0.209847  1.897161 -1.381391\n",
       "\n",
       "[500 rows x 6 columns]"
      ]
     },
     "execution_count": 13,
     "metadata": {},
     "output_type": "execute_result"
    }
   ],
   "source": [
    "np.random.seed(1)\n",
    "df = pd.read_csv('https://raw.githubusercontent.com/guebin/MP2023/main/posts/employment.csv')\n",
    "df_balance = pd.DataFrame((np.random.randn(500,3)).reshape(500,3)*1,columns = ['balance'+str(i) for i in range(3)])\n",
    "df_train = pd.concat([df,df_balance],axis=1)\n",
    "df_train"
   ]
  },
  {
   "cell_type": "code",
   "execution_count": 14,
   "id": "0eb8dee4",
   "metadata": {},
   "outputs": [
    {
     "data": {
      "text/html": [
       "<style>#sk-container-id-2 {color: black;background-color: white;}#sk-container-id-2 pre{padding: 0;}#sk-container-id-2 div.sk-toggleable {background-color: white;}#sk-container-id-2 label.sk-toggleable__label {cursor: pointer;display: block;width: 100%;margin-bottom: 0;padding: 0.3em;box-sizing: border-box;text-align: center;}#sk-container-id-2 label.sk-toggleable__label-arrow:before {content: \"▸\";float: left;margin-right: 0.25em;color: #696969;}#sk-container-id-2 label.sk-toggleable__label-arrow:hover:before {color: black;}#sk-container-id-2 div.sk-estimator:hover label.sk-toggleable__label-arrow:before {color: black;}#sk-container-id-2 div.sk-toggleable__content {max-height: 0;max-width: 0;overflow: hidden;text-align: left;background-color: #f0f8ff;}#sk-container-id-2 div.sk-toggleable__content pre {margin: 0.2em;color: black;border-radius: 0.25em;background-color: #f0f8ff;}#sk-container-id-2 input.sk-toggleable__control:checked~div.sk-toggleable__content {max-height: 200px;max-width: 100%;overflow: auto;}#sk-container-id-2 input.sk-toggleable__control:checked~label.sk-toggleable__label-arrow:before {content: \"▾\";}#sk-container-id-2 div.sk-estimator input.sk-toggleable__control:checked~label.sk-toggleable__label {background-color: #d4ebff;}#sk-container-id-2 div.sk-label input.sk-toggleable__control:checked~label.sk-toggleable__label {background-color: #d4ebff;}#sk-container-id-2 input.sk-hidden--visually {border: 0;clip: rect(1px 1px 1px 1px);clip: rect(1px, 1px, 1px, 1px);height: 1px;margin: -1px;overflow: hidden;padding: 0;position: absolute;width: 1px;}#sk-container-id-2 div.sk-estimator {font-family: monospace;background-color: #f0f8ff;border: 1px dotted black;border-radius: 0.25em;box-sizing: border-box;margin-bottom: 0.5em;}#sk-container-id-2 div.sk-estimator:hover {background-color: #d4ebff;}#sk-container-id-2 div.sk-parallel-item::after {content: \"\";width: 100%;border-bottom: 1px solid gray;flex-grow: 1;}#sk-container-id-2 div.sk-label:hover label.sk-toggleable__label {background-color: #d4ebff;}#sk-container-id-2 div.sk-serial::before {content: \"\";position: absolute;border-left: 1px solid gray;box-sizing: border-box;top: 0;bottom: 0;left: 50%;z-index: 0;}#sk-container-id-2 div.sk-serial {display: flex;flex-direction: column;align-items: center;background-color: white;padding-right: 0.2em;padding-left: 0.2em;position: relative;}#sk-container-id-2 div.sk-item {position: relative;z-index: 1;}#sk-container-id-2 div.sk-parallel {display: flex;align-items: stretch;justify-content: center;background-color: white;position: relative;}#sk-container-id-2 div.sk-item::before, #sk-container-id-2 div.sk-parallel-item::before {content: \"\";position: absolute;border-left: 1px solid gray;box-sizing: border-box;top: 0;bottom: 0;left: 50%;z-index: -1;}#sk-container-id-2 div.sk-parallel-item {display: flex;flex-direction: column;z-index: 1;position: relative;background-color: white;}#sk-container-id-2 div.sk-parallel-item:first-child::after {align-self: flex-end;width: 50%;}#sk-container-id-2 div.sk-parallel-item:last-child::after {align-self: flex-start;width: 50%;}#sk-container-id-2 div.sk-parallel-item:only-child::after {width: 0;}#sk-container-id-2 div.sk-dashed-wrapped {border: 1px dashed gray;margin: 0 0.4em 0.5em 0.4em;box-sizing: border-box;padding-bottom: 0.4em;background-color: white;}#sk-container-id-2 div.sk-label label {font-family: monospace;font-weight: bold;display: inline-block;line-height: 1.2em;}#sk-container-id-2 div.sk-label-container {text-align: center;}#sk-container-id-2 div.sk-container {/* jupyter's `normalize.less` sets `[hidden] { display: none; }` but bootstrap.min.css set `[hidden] { display: none !important; }` so we also need the `!important` here to be able to override the default hidden behavior on the sphinx rendered scikit-learn.org. See: https://github.com/scikit-learn/scikit-learn/issues/21755 */display: inline-block !important;position: relative;}#sk-container-id-2 div.sk-text-repr-fallback {display: none;}</style><div id=\"sk-container-id-2\" class=\"sk-top-container\"><div class=\"sk-text-repr-fallback\"><pre>LogisticRegressionCV(Cs=[0.1, 1, 10, 100], penalty=&#x27;l1&#x27;, random_state=42,\n",
       "                     solver=&#x27;liblinear&#x27;)</pre><b>In a Jupyter environment, please rerun this cell to show the HTML representation or trust the notebook. <br />On GitHub, the HTML representation is unable to render, please try loading this page with nbviewer.org.</b></div><div class=\"sk-container\" hidden><div class=\"sk-item\"><div class=\"sk-estimator sk-toggleable\"><input class=\"sk-toggleable__control sk-hidden--visually\" id=\"sk-estimator-id-2\" type=\"checkbox\" checked><label for=\"sk-estimator-id-2\" class=\"sk-toggleable__label sk-toggleable__label-arrow\">LogisticRegressionCV</label><div class=\"sk-toggleable__content\"><pre>LogisticRegressionCV(Cs=[0.1, 1, 10, 100], penalty=&#x27;l1&#x27;, random_state=42,\n",
       "                     solver=&#x27;liblinear&#x27;)</pre></div></div></div></div></div>"
      ],
      "text/plain": [
       "LogisticRegressionCV(Cs=[0.1, 1, 10, 100], penalty='l1', random_state=42,\n",
       "                     solver='liblinear')"
      ]
     },
     "execution_count": 17,
     "metadata": {},
     "output_type": "execute_result"
    }
   ],
   "source": [
    "# step1\n",
    "X,y = df_train[['toeic','gpa','balance0','balance1','balance2']], df_train['employment']\n",
    "# step2 \n",
    "predictr = sklearn.linear_model.LogisticRegressionCV(\n",
    "    Cs = [0.1, 1, 10, 100],\n",
    "    penalty='l1',\n",
    "    solver='liblinear',\n",
    "    random_state=42\n",
    ")\n",
    "# step3 \n",
    "predictr.fit(X,y)\n",
    "# step4 -- pass"
   ]
  },
  {
   "cell_type": "code",
   "execution_count": null,
   "id": "47ace3ed",
   "metadata": {},
   "outputs": [
    {
     "data": {
      "text/plain": [
       "array([[0.00260249, 1.41401358, 0.        , 0.        , 0.        ]])"
      ]
     },
     "execution_count": 15,
     "metadata": {},
     "output_type": "execute_result"
    }
   ],
   "source": [
    "predictr.coef_"
   ]
  },
  {
   "cell_type": "code",
   "execution_count": 33,
   "id": "21334974",
   "metadata": {},
   "outputs": [
    {
     "data": {
      "text/plain": [
       "toeic       0.002602\n",
       "gpa         1.414014\n",
       "balance0    0.000000\n",
       "balance1    0.000000\n",
       "balance2    0.000000\n",
       "dtype: float64"
      ]
     },
     "execution_count": 33,
     "metadata": {},
     "output_type": "execute_result"
    }
   ],
   "source": [
    "s = pd.Series(predictr.coef_.reshape(-1))\n",
    "s.index= X.columns\n",
    "s"
   ]
  },
  {
   "cell_type": "markdown",
   "id": "21c74936-eeac-41cc-b2da-3612bb1cf860",
   "metadata": {},
   "source": [
    "## D. 이상치의 존재\n",
    "\n",
    "`-` 문제: 이상치가 존재할 경우 전체 모형이 무너질 수 있음\n",
    "\n",
    "`-` 이상치가 있을 경우 해결할 수 있는 방법\n",
    "\n",
    "-   방법1: 이상치를 제거하고 분석한다.\n",
    "    1.  느낌적으로 제거함.\n",
    "    2.  이상치를 감지하는 지표을 사용하여 제거한 이후 분석\n",
    "    3.  이상치를 자동으로 감지하는 모형을 사용하여 이상치를 제거한 이후\n",
    "        분석\n",
    "-   방법2: 로버스트 선형회귀 계열을 이용\n",
    "    1.  `sklearn.linear_model.HuberRegressor` 등  \n",
    "-   방법3: 이상치를 완화시키는 변환을 사용\n",
    "    1.  `sklearn.preprocessing.PowerTransformer` 이용\n",
    "\n",
    "`-` 방법3-1의 예시"
   ]
  },
  {
   "cell_type": "code",
   "execution_count": 42,
   "id": "ddd84d90-b0fe-4c5c-afd3-1e0ef539906b",
   "metadata": {
    "tags": []
   },
   "outputs": [
    {
     "data": {
      "text/html": [
       "<div>\n",
       "<style scoped>\n",
       "    .dataframe tbody tr th:only-of-type {\n",
       "        vertical-align: middle;\n",
       "    }\n",
       "\n",
       "    .dataframe tbody tr th {\n",
       "        vertical-align: top;\n",
       "    }\n",
       "\n",
       "    .dataframe thead th {\n",
       "        text-align: right;\n",
       "    }\n",
       "</style>\n",
       "<table border=\"1\" class=\"dataframe\">\n",
       "  <thead>\n",
       "    <tr style=\"text-align: right;\">\n",
       "      <th></th>\n",
       "      <th>temp</th>\n",
       "      <th>ice_sales</th>\n",
       "    </tr>\n",
       "  </thead>\n",
       "  <tbody>\n",
       "    <tr>\n",
       "      <th>0</th>\n",
       "      <td>-4.1</td>\n",
       "      <td>50.000000</td>\n",
       "    </tr>\n",
       "    <tr>\n",
       "      <th>1</th>\n",
       "      <td>-3.7</td>\n",
       "      <td>9.234175</td>\n",
       "    </tr>\n",
       "    <tr>\n",
       "      <th>2</th>\n",
       "      <td>-3.0</td>\n",
       "      <td>9.642778</td>\n",
       "    </tr>\n",
       "    <tr>\n",
       "      <th>3</th>\n",
       "      <td>-1.3</td>\n",
       "      <td>9.657894</td>\n",
       "    </tr>\n",
       "    <tr>\n",
       "      <th>4</th>\n",
       "      <td>-0.5</td>\n",
       "      <td>9.987787</td>\n",
       "    </tr>\n",
       "    <tr>\n",
       "      <th>5</th>\n",
       "      <td>-0.3</td>\n",
       "      <td>10.205951</td>\n",
       "    </tr>\n",
       "    <tr>\n",
       "      <th>6</th>\n",
       "      <td>0.3</td>\n",
       "      <td>8.486925</td>\n",
       "    </tr>\n",
       "    <tr>\n",
       "      <th>7</th>\n",
       "      <td>0.4</td>\n",
       "      <td>8.817227</td>\n",
       "    </tr>\n",
       "    <tr>\n",
       "      <th>8</th>\n",
       "      <td>0.4</td>\n",
       "      <td>8.273155</td>\n",
       "    </tr>\n",
       "    <tr>\n",
       "      <th>9</th>\n",
       "      <td>0.7</td>\n",
       "      <td>8.863784</td>\n",
       "    </tr>\n",
       "  </tbody>\n",
       "</table>\n",
       "</div>"
      ],
      "text/plain": [
       "   temp  ice_sales\n",
       "0  -4.1  50.000000\n",
       "1  -3.7   9.234175\n",
       "2  -3.0   9.642778\n",
       "3  -1.3   9.657894\n",
       "4  -0.5   9.987787\n",
       "5  -0.3  10.205951\n",
       "6   0.3   8.486925\n",
       "7   0.4   8.817227\n",
       "8   0.4   8.273155\n",
       "9   0.7   8.863784"
      ]
     },
     "execution_count": 42,
     "metadata": {},
     "output_type": "execute_result"
    }
   ],
   "source": [
    "np.random.seed(43052)\n",
    "temp = pd.read_csv('https://raw.githubusercontent.com/guebin/DV2022/master/posts/temp.csv').iloc[:100,3].to_numpy()\n",
    "temp.sort()\n",
    "ice_sales = 10 + temp * 0.5 + np.random.randn(100)\n",
    "ice_sales[0] = 50\n",
    "df_train = pd.DataFrame({'temp':temp,'ice_sales':ice_sales})[:10]\n",
    "df_train"
   ]
  },
  {
   "cell_type": "code",
   "execution_count": 43,
   "id": "da779a25",
   "metadata": {},
   "outputs": [],
   "source": [
    "transformr = sklearn.preprocessing.PowerTransformer()\n",
    "x,y = transformr.fit_transform(df_train).T"
   ]
  },
  {
   "cell_type": "markdown",
   "id": "8538dc3f-4655-479a-8abd-d19a08d0b59b",
   "metadata": {},
   "source": [
    "- 변환해보고 나중에 역변환 하면 됨"
   ]
  },
  {
   "cell_type": "code",
   "execution_count": 44,
   "id": "e40c6231",
   "metadata": {},
   "outputs": [],
   "source": [
    "sns.scatterplot(df_train,x='temp',y='ice_sales',label='before')\n",
    "sns.scatterplot(x=x,y=y,label='after')"
   ]
  },
  {
   "attachments": {
    "7665acd7-bac5-4571-bfae-008e28f14449.png": {
     "image/png": "[encoded data removed]"
    }
   },
   "cell_type": "markdown",
   "id": "68e1e56e-df1e-4479-aa1e-a48362ae70c9",
   "metadata": {},
   "source": [
    "![image.png](attachment:7665acd7-bac5-4571-bfae-008e28f14449.png)"
   ]
  },
  {
   "cell_type": "markdown",
   "id": "0edf128e-2b6e-4a53-bbff-8b0167d0732e",
   "metadata": {},
   "source": [
    "—참고—\n",
    "\n",
    "`PowerTransformer()`는 자료가 정규분포가 아닌 경우 강제로 정규화하는\n",
    "변환이다."
   ]
  },
  {
   "cell_type": "code",
   "execution_count": 45,
   "id": "d22ee429-b204-493b-9f06-ee467b371ae2",
   "metadata": {
    "tags": []
   },
   "outputs": [],
   "source": [
    "x = np.random.exponential(scale=10, size=1000)\n",
    "transformr = sklearn.preprocessing.PowerTransformer(method='box-cox')  # 'box-cox' 또는 'yeo-johnson' 중 선택 가능, 디폴트는 이오존슨\n",
    "y = transformr.fit_transform(x.reshape(-1, 1))"
   ]
  },
  {
   "cell_type": "code",
   "execution_count": 46,
   "id": "6d7bb4f7-c559-4708-8628-4aa97db23728",
   "metadata": {
    "tags": []
   },
   "outputs": [
    {
     "data": {
      "image/png": "[encoded data removed]",
      "text/plain": [
       "<Figure size 1200x480 with 2 Axes>"
      ]
     },
     "metadata": {},
     "output_type": "display_data"
    }
   ],
   "source": [
    "fig, ax = plt.subplots(1,2)\n",
    "ax[0].hist(x,bins=25)\n",
    "ax[1].hist(y,bins=25)\n",
    "fig.set_figwidth(12)"
   ]
  },
  {
   "cell_type": "markdown",
   "id": "fb857129-cd71-4598-81a7-38ae3ef15f7c",
   "metadata": {},
   "source": [
    "## E. 교호작용의 존재\n",
    "\n",
    "`-` 문제: 설명 변수 간의 상호 작용이 있는 경우 이를 고려하지 않으면\n",
    "모델이 데이터를 잘 설명하지 못할 수 있음.\n",
    "\n",
    "`-` 해결: 고려하면 됩니당.."
   ]
  }
 ],
 "metadata": {
  "kernelspec": {
   "display_name": "Python 3 (ipykernel)",
   "language": "python",
   "name": "python3"
  },
  "language_info": {
   "codemirror_mode": {
    "name": "ipython",
    "version": 3
   },
   "file_extension": ".py",
   "mimetype": "text/x-python",
   "name": "python",
   "nbconvert_exporter": "python",
   "pygments_lexer": "ipython3",
   "version": "3.8.18"
  }
 },
 "nbformat": 4,
 "nbformat_minor": 5
}

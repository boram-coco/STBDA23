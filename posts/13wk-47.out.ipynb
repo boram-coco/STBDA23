{
 "cells": [
  {
   "cell_type": "raw",
   "id": "07e5c354-1784-4096-b953-ad0224f01b87",
   "metadata": {},
   "source": [
    "---\n",
    "title: \"[STBDA2023] 13wk-47: 평가지표의 계산\"\n",
    "author: \"김보람\"\n",
    "date: \"12/03/2023\"\n",
    "---"
   ]
  },
  {
   "cell_type": "markdown",
   "id": "bc8291f3-02cc-438a-b47f-08cc8ccb2a7e",
   "metadata": {},
   "source": [
    "# 13wk-47: 평가지표의 계산\n",
    "\n",
    "최규빈  \n",
    "2023-12-01\n",
    "\n",
    "# 1. 강의영상\n",
    "\n",
    "<https://youtu.be/playlist?list=PLQqh36zP38-zr8gM9nYpQ_0Q_OKIqeU0d&si=lX6pDp3cV_fME8mg>\n",
    "\n",
    "# 2. Imports"
   ]
  },
  {
   "cell_type": "code",
   "execution_count": 2,
   "id": "a1fe4893-6304-42fd-9c53-7e5684def4a7",
   "metadata": {
    "tags": []
   },
   "outputs": [],
   "source": [
    "import numpy as np\n",
    "import sklearn.metrics"
   ]
  },
  {
   "cell_type": "markdown",
   "id": "43c85abc-fab0-4e62-baec-cd0a3aa34015",
   "metadata": {},
   "source": [
    "# 3. 12wk-46 숙제풀이\n",
    "\n",
    "밀실안에 100명의 사람이 있다고 하자. 이중 이중휴민트는 2명이 있다고\n",
    "하자. 이중휴민트를 잡기위해서 3명을 사살했다고 하자. 사살된 사람중 실제\n",
    "이중휴민트는 1명이었다고 하자. 이 경우\n",
    "\n",
    "-   accurary\n",
    "-   TPR(=recall)\n",
    "-   precision\n",
    "-   FPR\n",
    "\n",
    "값을 계산하라.\n",
    "\n",
    "`-` `y`, `yhat`"
   ]
  },
  {
   "cell_type": "code",
   "execution_count": 3,
   "id": "be6bfeed-e917-4e5f-9f75-2e2eeb042da6",
   "metadata": {
    "tags": []
   },
   "outputs": [
    {
     "data": {
      "text/plain": [
       "array([1, 1, 0, 0, 0, 0, 0, 0, 0, 0, 0, 0, 0, 0, 0, 0, 0, 0, 0, 0, 0, 0,\n",
       "       0, 0, 0, 0, 0, 0, 0, 0, 0, 0, 0, 0, 0, 0, 0, 0, 0, 0, 0, 0, 0, 0,\n",
       "       0, 0, 0, 0, 0, 0, 0, 0, 0, 0, 0, 0, 0, 0, 0, 0, 0, 0, 0, 0, 0, 0,\n",
       "       0, 0, 0, 0, 0, 0, 0, 0, 0, 0, 0, 0, 0, 0, 0, 0, 0, 0, 0, 0, 0, 0,\n",
       "       0, 0, 0, 0, 0, 0, 0, 0, 0, 0, 0, 0])"
      ]
     },
     "execution_count": 3,
     "metadata": {},
     "output_type": "execute_result"
    }
   ],
   "source": [
    "y = np.array([1]*2 + [0]*98)\n",
    "y"
   ]
  },
  {
   "cell_type": "code",
   "execution_count": 4,
   "id": "729ae415-f978-42cd-beb0-513b0083b7bc",
   "metadata": {
    "tags": []
   },
   "outputs": [
    {
     "data": {
      "text/plain": [
       "array([0, 1, 1, 1, 0, 0, 0, 0, 0, 0, 0, 0, 0, 0, 0, 0, 0, 0, 0, 0, 0, 0,\n",
       "       0, 0, 0, 0, 0, 0, 0, 0, 0, 0, 0, 0, 0, 0, 0, 0, 0, 0, 0, 0, 0, 0,\n",
       "       0, 0, 0, 0, 0, 0, 0, 0, 0, 0, 0, 0, 0, 0, 0, 0, 0, 0, 0, 0, 0, 0,\n",
       "       0, 0, 0, 0, 0, 0, 0, 0, 0, 0, 0, 0, 0, 0, 0, 0, 0, 0, 0, 0, 0, 0,\n",
       "       0, 0, 0, 0, 0, 0, 0, 0, 0, 0, 0, 0])"
      ]
     },
     "execution_count": 4,
     "metadata": {},
     "output_type": "execute_result"
    }
   ],
   "source": [
    "yhat = np.array([0,1,1,1]+[0]*96)\n",
    "yhat"
   ]
  },
  {
   "cell_type": "markdown",
   "id": "ded990dd-7200-4e8b-a97b-32dd57d9d481",
   "metadata": {},
   "source": [
    "`-` 혼동행렬(=confusion matrix) 만들기"
   ]
  },
  {
   "cell_type": "code",
   "execution_count": 5,
   "id": "79f094f1-dc7a-4f76-b029-af85a5c3ef63",
   "metadata": {
    "tags": []
   },
   "outputs": [
    {
     "data": {
      "text/plain": [
       "array([[96,  2],\n",
       "       [ 1,  1]])"
      ]
     },
     "execution_count": 5,
     "metadata": {},
     "output_type": "execute_result"
    }
   ],
   "source": [
    "sklearn.metrics.confusion_matrix(y,yhat)"
   ]
  },
  {
   "cell_type": "code",
   "execution_count": 6,
   "id": "491c2ea9-2658-4546-9e7f-48c06c4c899b",
   "metadata": {
    "tags": []
   },
   "outputs": [],
   "source": [
    "(tn,fp),(fn,tp) = sklearn.metrics.confusion_matrix(y,yhat)"
   ]
  },
  {
   "cell_type": "markdown",
   "id": "fe247359-3919-40cb-b9f7-000c42a3c61a",
   "metadata": {},
   "source": [
    "`-` accuracy"
   ]
  },
  {
   "cell_type": "code",
   "execution_count": 7,
   "id": "7fd7d079-757f-4975-a72a-b84e846fd1f4",
   "metadata": {
    "tags": []
   },
   "outputs": [
    {
     "data": {
      "text/plain": [
       "0.97"
      ]
     },
     "execution_count": 7,
     "metadata": {},
     "output_type": "execute_result"
    }
   ],
   "source": [
    "(tp+tn)/(tn+fp+fn+tp) # accuracy "
   ]
  },
  {
   "cell_type": "code",
   "execution_count": 8,
   "id": "59c5fef6-84a7-4769-b2bd-2718a5cc621f",
   "metadata": {
    "tags": []
   },
   "outputs": [
    {
     "data": {
      "text/plain": [
       "0.97"
      ]
     },
     "execution_count": 8,
     "metadata": {},
     "output_type": "execute_result"
    }
   ],
   "source": [
    "sklearn.metrics.accuracy_score(y,yhat)"
   ]
  },
  {
   "cell_type": "markdown",
   "id": "a215867a-5074-4a08-b10a-edcbb3bd5069",
   "metadata": {},
   "source": [
    "`-` recall"
   ]
  },
  {
   "cell_type": "code",
   "execution_count": 9,
   "id": "693b1344-5c28-4ecc-891f-ae56f79f5c25",
   "metadata": {
    "tags": []
   },
   "outputs": [
    {
     "data": {
      "text/plain": [
       "0.5"
      ]
     },
     "execution_count": 9,
     "metadata": {},
     "output_type": "execute_result"
    }
   ],
   "source": [
    "tp/(tp+fn)"
   ]
  },
  {
   "cell_type": "code",
   "execution_count": 10,
   "id": "93910b7a-1796-49cf-947c-6db3e4083e6f",
   "metadata": {
    "tags": []
   },
   "outputs": [
    {
     "data": {
      "text/plain": [
       "0.5"
      ]
     },
     "execution_count": 10,
     "metadata": {},
     "output_type": "execute_result"
    }
   ],
   "source": [
    "sklearn.metrics.recall_score(y,yhat)"
   ]
  },
  {
   "cell_type": "markdown",
   "id": "8050679d-562a-4a45-85b1-de645d1763a1",
   "metadata": {},
   "source": [
    "`-` precision"
   ]
  },
  {
   "cell_type": "code",
   "execution_count": 11,
   "id": "7a485b27-dce0-4dfa-8bb0-3424bfb53be5",
   "metadata": {
    "tags": []
   },
   "outputs": [
    {
     "data": {
      "text/plain": [
       "0.3333333333333333"
      ]
     },
     "execution_count": 11,
     "metadata": {},
     "output_type": "execute_result"
    }
   ],
   "source": [
    "tp/(tp+fp)"
   ]
  },
  {
   "cell_type": "code",
   "execution_count": 12,
   "id": "e4bfdce7-1bc6-4652-aec9-674149407c5d",
   "metadata": {
    "tags": []
   },
   "outputs": [
    {
     "data": {
      "text/plain": [
       "0.3333333333333333"
      ]
     },
     "execution_count": 12,
     "metadata": {},
     "output_type": "execute_result"
    }
   ],
   "source": [
    "sklearn.metrics.precision_score(y,yhat)"
   ]
  },
  {
   "cell_type": "markdown",
   "id": "68c59808-4a61-49e0-9dc4-47f190d6e804",
   "metadata": {},
   "source": [
    "`-` FPR"
   ]
  },
  {
   "cell_type": "code",
   "execution_count": 13,
   "id": "cbd8d265-9a0a-4a14-8f10-280524ea239e",
   "metadata": {
    "tags": []
   },
   "outputs": [
    {
     "data": {
      "text/plain": [
       "0.02040816326530612"
      ]
     },
     "execution_count": 13,
     "metadata": {},
     "output_type": "execute_result"
    }
   ],
   "source": [
    "fp / (fp+tn)"
   ]
  },
  {
   "cell_type": "code",
   "execution_count": null,
   "id": "38c71395-1d9c-4fff-a751-5c2c5b9adc2c",
   "metadata": {},
   "outputs": [],
   "source": []
  }
 ],
 "metadata": {
  "kernelspec": {
   "display_name": "Python 3 (ipykernel)",
   "language": "python",
   "name": "python3"
  },
  "language_info": {
   "codemirror_mode": {
    "name": "ipython",
    "version": 3
   },
   "file_extension": ".py",
   "mimetype": "text/x-python",
   "name": "python",
   "nbconvert_exporter": "python",
   "pygments_lexer": "ipython3",
   "version": "3.8.18"
  }
 },
 "nbformat": 4,
 "nbformat_minor": 5
}
